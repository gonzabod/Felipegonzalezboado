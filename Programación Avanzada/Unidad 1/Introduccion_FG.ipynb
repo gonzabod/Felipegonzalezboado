{
  "nbformat": 4,
  "nbformat_minor": 0,
  "metadata": {
    "colab": {
      "provenance": []
    },
    "kernelspec": {
      "name": "python3",
      "display_name": "Python 3"
    },
    "language_info": {
      "name": "python"
    }
  },
  "cells": [
    {
      "cell_type": "markdown",
      "source": [
        "#**TAREA N°1 MSC 005-1 PROGRAMACIÓN AVANZADA**\n",
        "##Autor: Felipe González Boado\n",
        "\n",
        "###1.Figura Circunferencia con Fórmulas de Área y Perímetro\n",
        "![Área y perímetro de una circunferencia](https://www.problemasyecuaciones.com/geometria2D/area/circulo/img0.png)\n",
        "\n",
        "###2.Video Explicativo del Código\n",
        "[Video Tarea 1 Felipe Gonález Boado](https://www.youtube.com/watch?v=JYgGPLq7rvI)"
      ],
      "metadata": {
        "id": "WCxqtWTwGAgW"
      }
    },
    {
      "cell_type": "code",
      "source": [
        "import numpy as np\n",
        "\n",
        "radios = []\n",
        "\n",
        "print(\"ingrese radios positivos: \")\n",
        "print(\"ingrese cero (0) para detener ingreso de valores\")\n",
        "\n",
        "radio = 1\n",
        "while radio >0:\n",
        "  try:\n",
        "    radio = float(input(\"ingrese radio: \"))\n",
        "    if radio > 0:\n",
        "      radios.append(radio)\n",
        "    elif radio < 0:\n",
        "      while radio < 0:\n",
        "        try:\n",
        "          radio = float(input(\"Error: vuelva a ingresar un número válido: \"))\n",
        "          if radio > 0:\n",
        "            radios.append(radio)\n",
        "            break\n",
        "        except ValueError:\n",
        "          print(\"Error!: ingrese un número válido\")\n",
        "    else:\n",
        "      break\n",
        "  except ValueError:\n",
        "    print(\"Error!: ingrese un número válido\")\n",
        "\n",
        "for i in range(len(radios)):\n",
        "  perimetro = round(2*np.pi*radios[i],2)\n",
        "  area = round(np.pi*radios[i]**2,2)\n",
        "  print(f\"La circunferencia de radio {radios[i]} tiene un perímetro igual a {perimetro} [u] y un área igual a {area} [u^2]\")\n"
      ],
      "metadata": {
        "colab": {
          "base_uri": "https://localhost:8080/"
        },
        "id": "OcUjG7pIdwSy",
        "outputId": "8a471d09-46c9-4aee-b216-df3fcd0c636f"
      },
      "execution_count": 8,
      "outputs": [
        {
          "name": "stdout",
          "output_type": "stream",
          "text": [
            "ingrese radios positivos: \n",
            "ingrese cero (0) para detener ingreso de valores\n",
            "ingrese radio: 0\n"
          ]
        }
      ]
    },
    {
      "cell_type": "code",
      "source": [],
      "metadata": {
        "id": "XXwBH1jQkkpt"
      },
      "execution_count": null,
      "outputs": []
    },
    {
      "cell_type": "code",
      "source": [],
      "metadata": {
        "id": "fLnv947lkL6n"
      },
      "execution_count": null,
      "outputs": []
    }
  ]
}