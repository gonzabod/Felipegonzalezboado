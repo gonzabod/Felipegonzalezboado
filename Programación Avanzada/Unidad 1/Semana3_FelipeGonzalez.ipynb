{
  "nbformat": 4,
  "nbformat_minor": 0,
  "metadata": {
    "colab": {
      "provenance": []
    },
    "kernelspec": {
      "name": "python3",
      "display_name": "Python 3"
    },
    "language_info": {
      "name": "python"
    }
  },
  "cells": [
    {
      "cell_type": "markdown",
      "source": [
        "#Tarea 3 MSC 005 -1 Programación Avanzada\n",
        "##Autor: Felipe González Boado\n",
        "\n",
        "###Link Video\n",
        "[video_tarea3](https://youtu.be/1OGftq-u6Us)\n",
        "\n",
        "https://youtu.be/1OGftq-u6Us"
      ],
      "metadata": {
        "id": "3_Y0H4BVonzf"
      }
    },
    {
      "cell_type": "code",
      "execution_count": 14,
      "metadata": {
        "id": "MEZ7khLMaGi0"
      },
      "outputs": [],
      "source": [
        "import modulo as md\n",
        "from modulo import Punto2D"
      ]
    },
    {
      "cell_type": "code",
      "source": [
        "A = Punto2D(3,4)\n",
        "A.y\n",
        "\n"
      ],
      "metadata": {
        "colab": {
          "base_uri": "https://localhost:8080/"
        },
        "id": "FIk3K7AuaieN",
        "outputId": "65a40bc8-391d-4bef-abc3-a90882034e6f"
      },
      "execution_count": 15,
      "outputs": [
        {
          "output_type": "execute_result",
          "data": {
            "text/plain": [
              "4"
            ]
          },
          "metadata": {},
          "execution_count": 15
        }
      ]
    },
    {
      "cell_type": "code",
      "source": [
        "A = Punto2D(3,4)\n",
        "print(A(3))"
      ],
      "metadata": {
        "colab": {
          "base_uri": "https://localhost:8080/"
        },
        "id": "fzK4-3tpb6ZF",
        "outputId": "68487b54-b302-4d6d-c3c8-e3002a035427"
      },
      "execution_count": 16,
      "outputs": [
        {
          "output_type": "stream",
          "name": "stdout",
          "text": [
            "(9,12)\n"
          ]
        }
      ]
    },
    {
      "cell_type": "code",
      "source": [
        "A = Punto2D(3,4)\n",
        "B = Punto2D(5,6)\n",
        "C = 3*A + B\n",
        "C.x, C.y"
      ],
      "metadata": {
        "colab": {
          "base_uri": "https://localhost:8080/"
        },
        "id": "TxdBlig3fbBd",
        "outputId": "e9a6db72-ca07-41ce-ea11-25da46747d7a"
      },
      "execution_count": 17,
      "outputs": [
        {
          "output_type": "execute_result",
          "data": {
            "text/plain": [
              "(14, 18)"
            ]
          },
          "metadata": {},
          "execution_count": 17
        }
      ]
    },
    {
      "cell_type": "code",
      "source": [
        "A = Punto2D(3,4)\n",
        "A.grafica()"
      ],
      "metadata": {
        "colab": {
          "base_uri": "https://localhost:8080/",
          "height": 564
        },
        "id": "fXOeOFV9iDAM",
        "outputId": "79570c16-a6e1-453d-f6c8-aec8b8000e38"
      },
      "execution_count": 18,
      "outputs": [
        {
          "output_type": "display_data",
          "data": {
            "text/plain": [
              "<Figure size 600x600 with 1 Axes>"
            ],
            "image/png": "[encoded data removed]"
          },
          "metadata": {}
        }
      ]
    },
    {
      "cell_type": "code",
      "source": [
        "A = Punto2D(3,4)\n",
        "B = Punto2D(5,6)\n",
        "A.distancia(B)"
      ],
      "metadata": {
        "colab": {
          "base_uri": "https://localhost:8080/"
        },
        "id": "3C_NaHLUtERG",
        "outputId": "2c84c43a-7543-4bec-e287-d28112962ebb"
      },
      "execution_count": 19,
      "outputs": [
        {
          "output_type": "stream",
          "name": "stdout",
          "text": [
            "Tiempo de ejecución:  0.0000424385 segundos\n"
          ]
        },
        {
          "output_type": "execute_result",
          "data": {
            "text/plain": [
              "2.8284271247461903"
            ]
          },
          "metadata": {},
          "execution_count": 19
        }
      ]
    },
    {
      "cell_type": "code",
      "source": [
        "A = Punto2D(3,4)\n",
        "abs(A)"
      ],
      "metadata": {
        "colab": {
          "base_uri": "https://localhost:8080/"
        },
        "id": "C4hIah_Wu9hx",
        "outputId": "7b5203e9-d343-445f-f4b3-7d80960b05b8"
      },
      "execution_count": 20,
      "outputs": [
        {
          "output_type": "execute_result",
          "data": {
            "text/plain": [
              "5.0"
            ]
          },
          "metadata": {},
          "execution_count": 20
        }
      ]
    },
    {
      "cell_type": "code",
      "source": [],
      "metadata": {
        "id": "YG0fTJpCvHcU"
      },
      "execution_count": null,
      "outputs": []
    }
  ]
}